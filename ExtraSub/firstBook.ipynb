{
 "cells": [
  {
   "cell_type": "code",
   "execution_count": 6,
   "id": "initial_id",
   "metadata": {
    "collapsed": true,
    "ExecuteTime": {
     "end_time": "2023-09-24T13:56:04.357000600Z",
     "start_time": "2023-09-24T13:56:03.759704Z"
    }
   },
   "outputs": [
    {
     "data": {
      "text/plain": "<module 'pandas' from 'C:\\\\Users\\\\user\\\\PycharmProjects\\\\BigData\\\\venv\\\\Lib\\\\site-packages\\\\pandas\\\\__init__.py'>"
     },
     "execution_count": 6,
     "metadata": {},
     "output_type": "execute_result"
    }
   ],
   "source": [
    "import pandas as pd\n",
    "\n",
    "pd"
   ]
  },
  {
   "cell_type": "code",
   "execution_count": 7,
   "outputs": [
    {
     "data": {
      "text/plain": "0     1\n1     2\n2    34\n3     5\n4     5\n5    66\ndtype: int64"
     },
     "execution_count": 7,
     "metadata": {},
     "output_type": "execute_result"
    }
   ],
   "source": [
    "a = [1,2,34,5,5,66]\n",
    "pd.Series(a)"
   ],
   "metadata": {
    "collapsed": false,
    "ExecuteTime": {
     "end_time": "2023-09-24T13:56:33.841565600Z",
     "start_time": "2023-09-24T13:56:33.829592600Z"
    }
   },
   "id": "372283ca15f76c33"
  },
  {
   "cell_type": "code",
   "execution_count": 9,
   "outputs": [
    {
     "data": {
      "text/plain": "0     True\n1    False\n2     True\ndtype: bool"
     },
     "execution_count": 9,
     "metadata": {},
     "output_type": "execute_result"
    }
   ],
   "source": [
    "b = [True, False, True]\n",
    "\n",
    "s = pd.Series(b)\n",
    "s\n",
    "\n"
   ],
   "metadata": {
    "collapsed": false,
    "ExecuteTime": {
     "end_time": "2023-09-24T13:58:15.318510200Z",
     "start_time": "2023-09-24T13:58:15.307584200Z"
    }
   },
   "id": "3354b483b1c5d03"
  },
  {
   "cell_type": "code",
   "execution_count": 10,
   "outputs": [
    {
     "data": {
      "text/plain": "True"
     },
     "execution_count": 10,
     "metadata": {},
     "output_type": "execute_result"
    }
   ],
   "source": [
    "s[2]"
   ],
   "metadata": {
    "collapsed": false,
    "ExecuteTime": {
     "end_time": "2023-09-24T13:58:25.937570300Z",
     "start_time": "2023-09-24T13:58:25.910862400Z"
    }
   },
   "id": "c227789d380269e5"
  },
  {
   "cell_type": "code",
   "execution_count": 11,
   "outputs": [
    {
     "data": {
      "text/plain": "0     1\n1     2\n2    34\n3     5\n4     5\n5    66\ndtype: int64"
     },
     "execution_count": 11,
     "metadata": {},
     "output_type": "execute_result"
    }
   ],
   "source": [
    "v = pd.Series(a)\n",
    "v"
   ],
   "metadata": {
    "collapsed": false,
    "ExecuteTime": {
     "end_time": "2023-09-24T13:59:01.738458100Z",
     "start_time": "2023-09-24T13:59:01.693816900Z"
    }
   },
   "id": "b3629040c585bfe4"
  },
  {
   "cell_type": "code",
   "execution_count": 12,
   "outputs": [
    {
     "data": {
      "text/plain": "0    10\n1    20\n2    30\n3    40\n4    50\n5    60\n6    70\n7    80\n8    90\ndtype: int64"
     },
     "execution_count": 12,
     "metadata": {},
     "output_type": "execute_result"
    }
   ],
   "source": [
    "pd.Series(range(10,100,10))"
   ],
   "metadata": {
    "collapsed": false,
    "ExecuteTime": {
     "end_time": "2023-09-24T13:59:53.903589Z",
     "start_time": "2023-09-24T13:59:53.892425500Z"
    }
   },
   "id": "dad9e14f5406a775"
  },
  {
   "cell_type": "code",
   "execution_count": 15,
   "outputs": [
    {
     "data": {
      "text/plain": "привет    hello\nмир       world\ndtype: object"
     },
     "execution_count": 15,
     "metadata": {},
     "output_type": "execute_result"
    }
   ],
   "source": [
    "s = ['hello','world']\n",
    "r = pd.Series(s,['привет', 'мир'])\n",
    "r\n",
    "\n"
   ],
   "metadata": {
    "collapsed": false,
    "ExecuteTime": {
     "end_time": "2023-09-24T14:01:38.172509800Z",
     "start_time": "2023-09-24T14:01:38.138666400Z"
    }
   },
   "id": "731fc1ed74af1fcb"
  },
  {
   "cell_type": "code",
   "execution_count": 16,
   "outputs": [
    {
     "data": {
      "text/plain": "'hello'"
     },
     "execution_count": 16,
     "metadata": {},
     "output_type": "execute_result"
    }
   ],
   "source": [
    "r['привет']"
   ],
   "metadata": {
    "collapsed": false,
    "ExecuteTime": {
     "end_time": "2023-09-24T14:02:00.971841400Z",
     "start_time": "2023-09-24T14:02:00.936252900Z"
    }
   },
   "id": "a0e4a2327c4d93e3"
  },
  {
   "cell_type": "code",
   "execution_count": 17,
   "outputs": [
    {
     "name": "stderr",
     "output_type": "stream",
     "text": [
      "C:\\Users\\user\\AppData\\Local\\Temp\\ipykernel_1644\\1834848295.py:1: FutureWarning: Series.__getitem__ treating keys as positions is deprecated. In a future version, integer keys will always be treated as labels (consistent with DataFrame behavior). To access a value by position, use `ser.iloc[pos]`\n",
      "  r[0]\n"
     ]
    },
    {
     "data": {
      "text/plain": "'hello'"
     },
     "execution_count": 17,
     "metadata": {},
     "output_type": "execute_result"
    }
   ],
   "source": [
    "r[0]"
   ],
   "metadata": {
    "collapsed": false,
    "ExecuteTime": {
     "end_time": "2023-09-24T14:02:12.715638700Z",
     "start_time": "2023-09-24T14:02:12.693706100Z"
    }
   },
   "id": "3305e119cc6ad301"
  },
  {
   "cell_type": "code",
   "execution_count": 21,
   "outputs": [
    {
     "name": "stderr",
     "output_type": "stream",
     "text": [
      "C:\\Users\\user\\AppData\\Local\\Temp\\ipykernel_1644\\3579243375.py:3: FutureWarning: Series.__getitem__ treating keys as positions is deprecated. In a future version, integer keys will always be treated as labels (consistent with DataFrame behavior). To access a value by position, use `ser.iloc[pos]`\n",
      "  t[0]\n"
     ]
    },
    {
     "data": {
      "text/plain": "'hello'"
     },
     "execution_count": 21,
     "metadata": {},
     "output_type": "execute_result"
    }
   ],
   "source": [
    "d = {'привет':'hello','мир ':'world', 'messi':'best'}\n",
    "t = pd.Series(d)\n",
    "t[0]\n"
   ],
   "metadata": {
    "collapsed": false,
    "ExecuteTime": {
     "end_time": "2023-09-24T14:06:00.401512300Z",
     "start_time": "2023-09-24T14:06:00.367087300Z"
    }
   },
   "id": "6fc9c6d5e9e3ac94"
  },
  {
   "cell_type": "code",
   "execution_count": 22,
   "outputs": [
    {
     "name": "stderr",
     "output_type": "stream",
     "text": [
      "C:\\Users\\user\\AppData\\Local\\Temp\\ipykernel_1644\\1412434764.py:1: FutureWarning: Series.__getitem__ treating keys as positions is deprecated. In a future version, integer keys will always be treated as labels (consistent with DataFrame behavior). To access a value by position, use `ser.iloc[pos]`\n",
      "  t[0]\n"
     ]
    },
    {
     "data": {
      "text/plain": "'hello'"
     },
     "execution_count": 22,
     "metadata": {},
     "output_type": "execute_result"
    }
   ],
   "source": [
    "t[0]"
   ],
   "metadata": {
    "collapsed": false,
    "ExecuteTime": {
     "end_time": "2023-09-24T14:06:24.975281300Z",
     "start_time": "2023-09-24T14:06:24.966221300Z"
    }
   },
   "id": "21a401abf75c1ccf"
  },
  {
   "cell_type": "code",
   "execution_count": 23,
   "outputs": [
    {
     "data": {
      "text/plain": "'best'"
     },
     "execution_count": 23,
     "metadata": {},
     "output_type": "execute_result"
    }
   ],
   "source": [
    "t['messi']"
   ],
   "metadata": {
    "collapsed": false,
    "ExecuteTime": {
     "end_time": "2023-09-24T14:06:29.965646200Z",
     "start_time": "2023-09-24T14:06:29.959937200Z"
    }
   },
   "id": "3eeb106fa767c108"
  },
  {
   "cell_type": "code",
   "execution_count": null,
   "outputs": [],
   "source": [],
   "metadata": {
    "collapsed": false
   },
   "id": "2ec91e9c6852ea29"
  }
 ],
 "metadata": {
  "kernelspec": {
   "display_name": "Python 3",
   "language": "python",
   "name": "python3"
  },
  "language_info": {
   "codemirror_mode": {
    "name": "ipython",
    "version": 2
   },
   "file_extension": ".py",
   "mimetype": "text/x-python",
   "name": "python",
   "nbconvert_exporter": "python",
   "pygments_lexer": "ipython2",
   "version": "2.7.6"
  }
 },
 "nbformat": 4,
 "nbformat_minor": 5
}
