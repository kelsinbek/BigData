{
 "cells": [
  {
   "cell_type": "markdown",
   "source": [
    "# Lab_2\n",
    "# Работа с библиотеками NumPy , pandas"
   ],
   "metadata": {
    "collapsed": false
   },
   "id": "dfa5102f3e95f78e"
  },
  {
   "cell_type": "code",
   "execution_count": 1,
   "outputs": [
    {
     "data": {
      "text/plain": "array([  5,  10,  15,  20,  25,  30,  35,  40,  45,  50,  55,  60,  65,\n        70,  75,  80,  85,  90,  95, 100])"
     },
     "execution_count": 1,
     "metadata": {},
     "output_type": "execute_result"
    }
   ],
   "source": [
    "import numpy as np\n",
    "\n",
    "my_array = np.arange(5, 101, 5)\n",
    "my_array"
   ],
   "metadata": {
    "collapsed": false,
    "ExecuteTime": {
     "end_time": "2023-09-28T19:02:56.046199200Z",
     "start_time": "2023-09-28T19:02:55.927749900Z"
    }
   },
   "id": "d82b48a5cb8409eb"
  },
  {
   "cell_type": "code",
   "execution_count": 2,
   "outputs": [
    {
     "data": {
      "text/plain": "array([ 10,  20,  30,  40,  50,  60,  70,  80,  90, 100])"
     },
     "execution_count": 2,
     "metadata": {},
     "output_type": "execute_result"
    }
   ],
   "source": [
    "#2\n",
    "my_array_10 = my_array[my_array % 10 == 0]\n",
    "my_array_10"
   ],
   "metadata": {
    "collapsed": false,
    "ExecuteTime": {
     "end_time": "2023-09-28T19:03:10.901650200Z",
     "start_time": "2023-09-28T19:03:10.885705200Z"
    }
   },
   "id": "bc13032bada7886f"
  },
  {
   "cell_type": "code",
   "execution_count": 3,
   "outputs": [
    {
     "data": {
      "text/plain": "array([[ 10,  20],\n       [ 30,  40],\n       [ 50,  60],\n       [ 70,  80],\n       [ 90, 100]])"
     },
     "execution_count": 3,
     "metadata": {},
     "output_type": "execute_result"
    }
   ],
   "source": [
    "#3\n",
    "two_column_array = my_array_10.reshape(-1, 2)\n",
    "two_column_array"
   ],
   "metadata": {
    "collapsed": false,
    "ExecuteTime": {
     "end_time": "2023-09-28T19:03:37.391435800Z",
     "start_time": "2023-09-28T19:03:37.385767Z"
    }
   },
   "id": "593255e9759fc21f"
  },
  {
   "cell_type": "code",
   "execution_count": 4,
   "outputs": [
    {
     "data": {
      "text/plain": "array([[ 5, 15],\n       [25, 35],\n       [45, 55],\n       [65, 75],\n       [85, 95]])"
     },
     "execution_count": 4,
     "metadata": {},
     "output_type": "execute_result"
    }
   ],
   "source": [
    "#4\n",
    "my_second_array = two_column_array[:] - 5\n",
    "my_second_array"
   ],
   "metadata": {
    "collapsed": false,
    "ExecuteTime": {
     "end_time": "2023-09-28T19:03:57.117189700Z",
     "start_time": "2023-09-28T19:03:57.097993600Z"
    }
   },
   "id": "662baa72a788b310"
  },
  {
   "cell_type": "code",
   "execution_count": 7,
   "outputs": [
    {
     "data": {
      "text/plain": "array([[ 10,  20,   5,  15],\n       [ 30,  40,  25,  35],\n       [ 50,  60,  45,  55],\n       [ 70,  80,  65,  75],\n       [ 90, 100,  85,  95]])"
     },
     "execution_count": 7,
     "metadata": {},
     "output_type": "execute_result"
    }
   ],
   "source": [
    "#5\n",
    "combined_array = np.hstack((two_column_array, my_second_array))\n",
    "combined_array"
   ],
   "metadata": {
    "collapsed": false,
    "ExecuteTime": {
     "end_time": "2023-09-28T19:05:57.645438500Z",
     "start_time": "2023-09-28T19:05:57.641849200Z"
    }
   },
   "id": "69798bd0fa88bf41"
  },
  {
   "cell_type": "code",
   "execution_count": 8,
   "outputs": [
    {
     "data": {
      "text/plain": "array([[ 10,  30,  50,  70,  90],\n       [ 20,  40,  60,  80, 100]])"
     },
     "execution_count": 8,
     "metadata": {},
     "output_type": "execute_result"
    }
   ],
   "source": [
    "two_column_array = two_column_array.T\n",
    "two_column_array"
   ],
   "metadata": {
    "collapsed": false,
    "ExecuteTime": {
     "end_time": "2023-09-28T19:07:27.878253800Z",
     "start_time": "2023-09-28T19:07:27.873751800Z"
    }
   },
   "id": "4ec9d28a7297d1fe"
  },
  {
   "cell_type": "code",
   "execution_count": 9,
   "outputs": [
    {
     "data": {
      "text/plain": "array([[ 10,  30,  50,  70,  90],\n       [ 20,  40,  60,  80, 100],\n       [  5,  25,  45,  65,  85],\n       [ 15,  35,  55,  75,  95]])"
     },
     "execution_count": 9,
     "metadata": {},
     "output_type": "execute_result"
    }
   ],
   "source": [
    "combined_array = combined_array.T\n",
    "combined_array"
   ],
   "metadata": {
    "collapsed": false,
    "ExecuteTime": {
     "end_time": "2023-09-28T19:07:59.732172300Z",
     "start_time": "2023-09-28T19:07:59.674251900Z"
    }
   },
   "id": "e56ca66dca7ab971"
  },
  {
   "cell_type": "code",
   "execution_count": 13,
   "outputs": [
    {
     "data": {
      "text/plain": "array([[10, 30, 50, 70, 90],\n       [ 2,  1,  1,  1,  1],\n       [ 0,  0,  0,  0,  0],\n       [15, 35, 55, 75, 95]])"
     },
     "execution_count": 13,
     "metadata": {},
     "output_type": "execute_result"
    }
   ],
   "source": [
    "#6\n",
    "combined_array[1] = combined_array[1] / two_column_array[0]\n",
    "combined_array[2] = combined_array[2] / two_column_array[1]\n",
    "combined_array"
   ],
   "metadata": {
    "collapsed": false,
    "ExecuteTime": {
     "end_time": "2023-09-28T19:13:35.616056600Z",
     "start_time": "2023-09-28T19:13:35.611626300Z"
    }
   },
   "id": "b9a4d6de09c12f46"
  },
  {
   "cell_type": "code",
   "execution_count": 14,
   "outputs": [
    {
     "data": {
      "text/plain": "array([[10, 30, 50, 70, 90],\n       [15, 35, 55, 75, 95]])"
     },
     "execution_count": 14,
     "metadata": {},
     "output_type": "execute_result"
    }
   ],
   "source": [
    "#7\n",
    "new_combined_array = np.delete(combined_array, np.where(np.any(combined_array < 3, axis=1)), axis=0)\n",
    "new_combined_array"
   ],
   "metadata": {
    "collapsed": false,
    "ExecuteTime": {
     "end_time": "2023-09-28T19:15:20.091949200Z",
     "start_time": "2023-09-28T19:15:20.089757800Z"
    }
   },
   "id": "46375ab53d9ba070"
  },
  {
   "cell_type": "code",
   "execution_count": 15,
   "outputs": [
    {
     "name": "stdout",
     "output_type": "stream",
     "text": [
      "До изменения:\n",
      " [[10 20  5 15]\n",
      " [30 40 25 35]\n",
      " [50 60 45 55]]\n",
      "После изменения:\n",
      " [[50 60 45 55]\n",
      " [30 40 25 35]\n",
      " [10 20  5 15]]\n"
     ]
    }
   ],
   "source": [
    "new_array = np.hstack((two_column_array.T, my_second_array))\n",
    "new_array = np.resize(new_array, (3, 4))\n",
    "print(\"До изменения:\\n\",new_array)\n",
    "new_array[0], new_array[2] = new_array[2].copy(), new_array[0].copy()\n",
    "print(\"После изменения:\\n\",new_array)"
   ],
   "metadata": {
    "collapsed": false,
    "ExecuteTime": {
     "end_time": "2023-09-28T19:18:20.006530100Z",
     "start_time": "2023-09-28T19:18:19.939451800Z"
    }
   },
   "id": "1c4867deb66785a0"
  },
  {
   "cell_type": "code",
   "execution_count": 20,
   "outputs": [
    {
     "name": "stdout",
     "output_type": "stream",
     "text": [
      "Медианы: [30. 40. 25. 35.]\n",
      "Среднее: [30. 40. 25. 35.]\n",
      "Отклонения: [16.32993162 16.32993162 16.32993162 16.32993162]\n"
     ]
    }
   ],
   "source": [
    "medians = np.median(new_array, axis=0)\n",
    "means = np.mean(new_array, axis=0)\n",
    "stds = np.std(new_array, axis=0)\n",
    "print(\"Медианы:\",medians)\n",
    "print(\"Среднее:\",means)\n",
    "print(\"Отклонения:\",stds)"
   ],
   "metadata": {
    "collapsed": false,
    "ExecuteTime": {
     "end_time": "2023-09-28T19:19:22.465028900Z",
     "start_time": "2023-09-28T19:19:22.461629800Z"
    }
   },
   "id": "2bceb9c812cbb28"
  },
  {
   "cell_type": "code",
   "execution_count": 21,
   "outputs": [
    {
     "data": {
      "text/plain": "array([[0.83333333, 1.        , 0.75      , 0.91666667],\n       [0.75      , 1.        , 0.625     , 0.875     ],\n       [0.5       , 1.        , 0.25      , 0.75      ]])"
     },
     "execution_count": 21,
     "metadata": {},
     "output_type": "execute_result"
    }
   ],
   "source": [
    "max_values = np.max(new_array, axis=1, keepdims=True)\n",
    "normalized_array = new_array / max_values\n",
    "normalized_array"
   ],
   "metadata": {
    "collapsed": false,
    "ExecuteTime": {
     "end_time": "2023-09-28T19:19:53.257845800Z",
     "start_time": "2023-09-28T19:19:53.253268300Z"
    }
   },
   "id": "60a09ea6357f6b99"
  },
  {
   "cell_type": "markdown",
   "source": [
    "# Pandas"
   ],
   "metadata": {
    "collapsed": false
   },
   "id": "e47ca48778015d3f"
  },
  {
   "cell_type": "code",
   "execution_count": 32,
   "outputs": [
    {
     "data": {
      "text/plain": "          Country  Year Total Population Urban Population Rural Population  \\\n0     Afghanistan  2017                -                -                -   \n1     Afghanistan  2018       36,686,784        9,353,296       27,333,488   \n2     Afghanistan  2019       37,769,499        9,727,157       28,042,342   \n3     Afghanistan  2020       38,972,230       10,142,913       28,829,317   \n4     Afghanistan  2021       40,099,462       10,551,772       29,547,690   \n...           ...   ...              ...              ...              ...   \n1068     Zimbabwe  2017                -                -                -   \n1069     Zimbabwe  2018       15,052,184        4,848,158       10,204,026   \n1070     Zimbabwe  2019       15,354,608        4,945,719       10,408,889   \n1071     Zimbabwe  2020       15,669,666        5,052,214       10,617,452   \n1072     Zimbabwe  2021       15,993,524        5,166,388       10,827,136   \n\n     Population Density Life Expectancy  Birth Rate  Death Rate  \\\n0                    55            63.0      37.342       7.027   \n1                    56            63.0      36.927       6.981   \n2                    58            64.0      36.466       6.791   \n3                    60            63.0      36.051       7.113   \n4                     -            62.0      35.842       7.344   \n...                 ...             ...         ...         ...   \n1068                 38            61.0      32.516       8.266   \n1069                 39            61.0      32.074       7.972   \n1070                 40            61.0      31.518       8.043   \n1071                 41            61.0      31.009       8.132   \n1072                  -            59.0      30.537       9.057   \n\n     Fertility Rate Infant Mortality Rate Growth Rate  \n0             5.129                  49.4           -  \n1             5.002                  47.8         3.0  \n2              4.87                  46.3         3.0  \n3              4.75                  44.8         3.0  \n4             4.643                  43.4         3.0  \n...             ...                   ...         ...  \n1068          3.706                  39.5           -  \n1069          3.659                  38.0         2.0  \n1070          3.599                  37.1         2.0  \n1071          3.545                  36.6         2.0  \n1072          3.491                  35.7         2.0  \n\n[1073 rows x 12 columns]",
      "text/html": "<div>\n<style scoped>\n    .dataframe tbody tr th:only-of-type {\n        vertical-align: middle;\n    }\n\n    .dataframe tbody tr th {\n        vertical-align: top;\n    }\n\n    .dataframe thead th {\n        text-align: right;\n    }\n</style>\n<table border=\"1\" class=\"dataframe\">\n  <thead>\n    <tr style=\"text-align: right;\">\n      <th></th>\n      <th>Country</th>\n      <th>Year</th>\n      <th>Total Population</th>\n      <th>Urban Population</th>\n      <th>Rural Population</th>\n      <th>Population Density</th>\n      <th>Life Expectancy</th>\n      <th>Birth Rate</th>\n      <th>Death Rate</th>\n      <th>Fertility Rate</th>\n      <th>Infant Mortality Rate</th>\n      <th>Growth Rate</th>\n    </tr>\n  </thead>\n  <tbody>\n    <tr>\n      <th>0</th>\n      <td>Afghanistan</td>\n      <td>2017</td>\n      <td>-</td>\n      <td>-</td>\n      <td>-</td>\n      <td>55</td>\n      <td>63.0</td>\n      <td>37.342</td>\n      <td>7.027</td>\n      <td>5.129</td>\n      <td>49.4</td>\n      <td>-</td>\n    </tr>\n    <tr>\n      <th>1</th>\n      <td>Afghanistan</td>\n      <td>2018</td>\n      <td>36,686,784</td>\n      <td>9,353,296</td>\n      <td>27,333,488</td>\n      <td>56</td>\n      <td>63.0</td>\n      <td>36.927</td>\n      <td>6.981</td>\n      <td>5.002</td>\n      <td>47.8</td>\n      <td>3.0</td>\n    </tr>\n    <tr>\n      <th>2</th>\n      <td>Afghanistan</td>\n      <td>2019</td>\n      <td>37,769,499</td>\n      <td>9,727,157</td>\n      <td>28,042,342</td>\n      <td>58</td>\n      <td>64.0</td>\n      <td>36.466</td>\n      <td>6.791</td>\n      <td>4.87</td>\n      <td>46.3</td>\n      <td>3.0</td>\n    </tr>\n    <tr>\n      <th>3</th>\n      <td>Afghanistan</td>\n      <td>2020</td>\n      <td>38,972,230</td>\n      <td>10,142,913</td>\n      <td>28,829,317</td>\n      <td>60</td>\n      <td>63.0</td>\n      <td>36.051</td>\n      <td>7.113</td>\n      <td>4.75</td>\n      <td>44.8</td>\n      <td>3.0</td>\n    </tr>\n    <tr>\n      <th>4</th>\n      <td>Afghanistan</td>\n      <td>2021</td>\n      <td>40,099,462</td>\n      <td>10,551,772</td>\n      <td>29,547,690</td>\n      <td>-</td>\n      <td>62.0</td>\n      <td>35.842</td>\n      <td>7.344</td>\n      <td>4.643</td>\n      <td>43.4</td>\n      <td>3.0</td>\n    </tr>\n    <tr>\n      <th>...</th>\n      <td>...</td>\n      <td>...</td>\n      <td>...</td>\n      <td>...</td>\n      <td>...</td>\n      <td>...</td>\n      <td>...</td>\n      <td>...</td>\n      <td>...</td>\n      <td>...</td>\n      <td>...</td>\n      <td>...</td>\n    </tr>\n    <tr>\n      <th>1068</th>\n      <td>Zimbabwe</td>\n      <td>2017</td>\n      <td>-</td>\n      <td>-</td>\n      <td>-</td>\n      <td>38</td>\n      <td>61.0</td>\n      <td>32.516</td>\n      <td>8.266</td>\n      <td>3.706</td>\n      <td>39.5</td>\n      <td>-</td>\n    </tr>\n    <tr>\n      <th>1069</th>\n      <td>Zimbabwe</td>\n      <td>2018</td>\n      <td>15,052,184</td>\n      <td>4,848,158</td>\n      <td>10,204,026</td>\n      <td>39</td>\n      <td>61.0</td>\n      <td>32.074</td>\n      <td>7.972</td>\n      <td>3.659</td>\n      <td>38.0</td>\n      <td>2.0</td>\n    </tr>\n    <tr>\n      <th>1070</th>\n      <td>Zimbabwe</td>\n      <td>2019</td>\n      <td>15,354,608</td>\n      <td>4,945,719</td>\n      <td>10,408,889</td>\n      <td>40</td>\n      <td>61.0</td>\n      <td>31.518</td>\n      <td>8.043</td>\n      <td>3.599</td>\n      <td>37.1</td>\n      <td>2.0</td>\n    </tr>\n    <tr>\n      <th>1071</th>\n      <td>Zimbabwe</td>\n      <td>2020</td>\n      <td>15,669,666</td>\n      <td>5,052,214</td>\n      <td>10,617,452</td>\n      <td>41</td>\n      <td>61.0</td>\n      <td>31.009</td>\n      <td>8.132</td>\n      <td>3.545</td>\n      <td>36.6</td>\n      <td>2.0</td>\n    </tr>\n    <tr>\n      <th>1072</th>\n      <td>Zimbabwe</td>\n      <td>2021</td>\n      <td>15,993,524</td>\n      <td>5,166,388</td>\n      <td>10,827,136</td>\n      <td>-</td>\n      <td>59.0</td>\n      <td>30.537</td>\n      <td>9.057</td>\n      <td>3.491</td>\n      <td>35.7</td>\n      <td>2.0</td>\n    </tr>\n  </tbody>\n</table>\n<p>1073 rows × 12 columns</p>\n</div>"
     },
     "execution_count": 32,
     "metadata": {},
     "output_type": "execute_result"
    }
   ],
   "source": [
    "import pandas as pd\n",
    "\n",
    "df = pd.read_csv('Global Population Trends(2016-2022).csv')\n",
    "df"
   ],
   "metadata": {
    "collapsed": false,
    "ExecuteTime": {
     "end_time": "2023-09-28T19:33:34.608475500Z",
     "start_time": "2023-09-28T19:33:34.588634200Z"
    }
   },
   "id": "7065bcb925e130fe"
  },
  {
   "cell_type": "code",
   "execution_count": 33,
   "outputs": [
    {
     "data": {
      "text/plain": "       Country  Year Total Population Urban Population Rural Population  \\\n0  Afghanistan  2017                -                -                -   \n1  Afghanistan  2018       36,686,784        9,353,296       27,333,488   \n2  Afghanistan  2019       37,769,499        9,727,157       28,042,342   \n3  Afghanistan  2020       38,972,230       10,142,913       28,829,317   \n4  Afghanistan  2021       40,099,462       10,551,772       29,547,690   \n\n  Population Density Life Expectancy  Birth Rate  Death Rate Fertility Rate  \\\n0                 55            63.0      37.342       7.027          5.129   \n1                 56            63.0      36.927       6.981          5.002   \n2                 58            64.0      36.466       6.791           4.87   \n3                 60            63.0      36.051       7.113           4.75   \n4                  -            62.0      35.842       7.344          4.643   \n\n  Infant Mortality Rate Growth Rate  \n0                  49.4           -  \n1                  47.8         3.0  \n2                  46.3         3.0  \n3                  44.8         3.0  \n4                  43.4         3.0  ",
      "text/html": "<div>\n<style scoped>\n    .dataframe tbody tr th:only-of-type {\n        vertical-align: middle;\n    }\n\n    .dataframe tbody tr th {\n        vertical-align: top;\n    }\n\n    .dataframe thead th {\n        text-align: right;\n    }\n</style>\n<table border=\"1\" class=\"dataframe\">\n  <thead>\n    <tr style=\"text-align: right;\">\n      <th></th>\n      <th>Country</th>\n      <th>Year</th>\n      <th>Total Population</th>\n      <th>Urban Population</th>\n      <th>Rural Population</th>\n      <th>Population Density</th>\n      <th>Life Expectancy</th>\n      <th>Birth Rate</th>\n      <th>Death Rate</th>\n      <th>Fertility Rate</th>\n      <th>Infant Mortality Rate</th>\n      <th>Growth Rate</th>\n    </tr>\n  </thead>\n  <tbody>\n    <tr>\n      <th>0</th>\n      <td>Afghanistan</td>\n      <td>2017</td>\n      <td>-</td>\n      <td>-</td>\n      <td>-</td>\n      <td>55</td>\n      <td>63.0</td>\n      <td>37.342</td>\n      <td>7.027</td>\n      <td>5.129</td>\n      <td>49.4</td>\n      <td>-</td>\n    </tr>\n    <tr>\n      <th>1</th>\n      <td>Afghanistan</td>\n      <td>2018</td>\n      <td>36,686,784</td>\n      <td>9,353,296</td>\n      <td>27,333,488</td>\n      <td>56</td>\n      <td>63.0</td>\n      <td>36.927</td>\n      <td>6.981</td>\n      <td>5.002</td>\n      <td>47.8</td>\n      <td>3.0</td>\n    </tr>\n    <tr>\n      <th>2</th>\n      <td>Afghanistan</td>\n      <td>2019</td>\n      <td>37,769,499</td>\n      <td>9,727,157</td>\n      <td>28,042,342</td>\n      <td>58</td>\n      <td>64.0</td>\n      <td>36.466</td>\n      <td>6.791</td>\n      <td>4.87</td>\n      <td>46.3</td>\n      <td>3.0</td>\n    </tr>\n    <tr>\n      <th>3</th>\n      <td>Afghanistan</td>\n      <td>2020</td>\n      <td>38,972,230</td>\n      <td>10,142,913</td>\n      <td>28,829,317</td>\n      <td>60</td>\n      <td>63.0</td>\n      <td>36.051</td>\n      <td>7.113</td>\n      <td>4.75</td>\n      <td>44.8</td>\n      <td>3.0</td>\n    </tr>\n    <tr>\n      <th>4</th>\n      <td>Afghanistan</td>\n      <td>2021</td>\n      <td>40,099,462</td>\n      <td>10,551,772</td>\n      <td>29,547,690</td>\n      <td>-</td>\n      <td>62.0</td>\n      <td>35.842</td>\n      <td>7.344</td>\n      <td>4.643</td>\n      <td>43.4</td>\n      <td>3.0</td>\n    </tr>\n  </tbody>\n</table>\n</div>"
     },
     "execution_count": 33,
     "metadata": {},
     "output_type": "execute_result"
    }
   ],
   "source": [
    "df.head()"
   ],
   "metadata": {
    "collapsed": false,
    "ExecuteTime": {
     "end_time": "2023-09-28T19:33:36.913816400Z",
     "start_time": "2023-09-28T19:33:36.901517900Z"
    }
   },
   "id": "8889957d7446c016"
  },
  {
   "cell_type": "code",
   "execution_count": 34,
   "outputs": [
    {
     "data": {
      "text/plain": "       Country  Year Total Population Urban Population Rural Population  \\\n0  Afghanistan  2017                -                -                -   \n1  Afghanistan  2018       36,686,784        9,353,296       27,333,488   \n2  Afghanistan  2019       37,769,499        9,727,157       28,042,342   \n3  Afghanistan  2020       38,972,230       10,142,913       28,829,317   \n4  Afghanistan  2021       40,099,462       10,551,772       29,547,690   \n\n  Population Density Life Expectancy  Birth Rate  Death Rate Fertility Rate  \\\n0                 55            63.0      37.342       7.027          5.129   \n1                 56            63.0      36.927       6.981          5.002   \n2                 58            64.0      36.466       6.791           4.87   \n3                 60            63.0      36.051       7.113           4.75   \n4                  -            62.0      35.842       7.344          4.643   \n\n  Infant Mortality Rate Growth Rate  \n0                  49.4           -  \n1                  47.8         3.0  \n2                  46.3         3.0  \n3                  44.8         3.0  \n4                  43.4         3.0  ",
      "text/html": "<div>\n<style scoped>\n    .dataframe tbody tr th:only-of-type {\n        vertical-align: middle;\n    }\n\n    .dataframe tbody tr th {\n        vertical-align: top;\n    }\n\n    .dataframe thead th {\n        text-align: right;\n    }\n</style>\n<table border=\"1\" class=\"dataframe\">\n  <thead>\n    <tr style=\"text-align: right;\">\n      <th></th>\n      <th>Country</th>\n      <th>Year</th>\n      <th>Total Population</th>\n      <th>Urban Population</th>\n      <th>Rural Population</th>\n      <th>Population Density</th>\n      <th>Life Expectancy</th>\n      <th>Birth Rate</th>\n      <th>Death Rate</th>\n      <th>Fertility Rate</th>\n      <th>Infant Mortality Rate</th>\n      <th>Growth Rate</th>\n    </tr>\n  </thead>\n  <tbody>\n    <tr>\n      <th>0</th>\n      <td>Afghanistan</td>\n      <td>2017</td>\n      <td>-</td>\n      <td>-</td>\n      <td>-</td>\n      <td>55</td>\n      <td>63.0</td>\n      <td>37.342</td>\n      <td>7.027</td>\n      <td>5.129</td>\n      <td>49.4</td>\n      <td>-</td>\n    </tr>\n    <tr>\n      <th>1</th>\n      <td>Afghanistan</td>\n      <td>2018</td>\n      <td>36,686,784</td>\n      <td>9,353,296</td>\n      <td>27,333,488</td>\n      <td>56</td>\n      <td>63.0</td>\n      <td>36.927</td>\n      <td>6.981</td>\n      <td>5.002</td>\n      <td>47.8</td>\n      <td>3.0</td>\n    </tr>\n    <tr>\n      <th>2</th>\n      <td>Afghanistan</td>\n      <td>2019</td>\n      <td>37,769,499</td>\n      <td>9,727,157</td>\n      <td>28,042,342</td>\n      <td>58</td>\n      <td>64.0</td>\n      <td>36.466</td>\n      <td>6.791</td>\n      <td>4.87</td>\n      <td>46.3</td>\n      <td>3.0</td>\n    </tr>\n    <tr>\n      <th>3</th>\n      <td>Afghanistan</td>\n      <td>2020</td>\n      <td>38,972,230</td>\n      <td>10,142,913</td>\n      <td>28,829,317</td>\n      <td>60</td>\n      <td>63.0</td>\n      <td>36.051</td>\n      <td>7.113</td>\n      <td>4.75</td>\n      <td>44.8</td>\n      <td>3.0</td>\n    </tr>\n    <tr>\n      <th>4</th>\n      <td>Afghanistan</td>\n      <td>2021</td>\n      <td>40,099,462</td>\n      <td>10,551,772</td>\n      <td>29,547,690</td>\n      <td>-</td>\n      <td>62.0</td>\n      <td>35.842</td>\n      <td>7.344</td>\n      <td>4.643</td>\n      <td>43.4</td>\n      <td>3.0</td>\n    </tr>\n  </tbody>\n</table>\n</div>"
     },
     "execution_count": 34,
     "metadata": {},
     "output_type": "execute_result"
    }
   ],
   "source": [
    "df.head()"
   ],
   "metadata": {
    "collapsed": false,
    "ExecuteTime": {
     "end_time": "2023-09-28T19:33:37.760583600Z",
     "start_time": "2023-09-28T19:33:37.740048600Z"
    }
   },
   "id": "c7b3319674d08386"
  },
  {
   "cell_type": "code",
   "execution_count": 35,
   "outputs": [
    {
     "data": {
      "text/plain": "Index(['Country', 'Year', 'Total Population', 'Urban Population',\n       'Rural Population', 'Population Density', 'Life Expectancy',\n       'Birth Rate', 'Death Rate', 'Fertility Rate', 'Infant Mortality Rate',\n       'Growth Rate'],\n      dtype='object')"
     },
     "execution_count": 35,
     "metadata": {},
     "output_type": "execute_result"
    }
   ],
   "source": [
    "df.columns"
   ],
   "metadata": {
    "collapsed": false,
    "ExecuteTime": {
     "end_time": "2023-09-28T19:33:38.640461500Z",
     "start_time": "2023-09-28T19:33:38.629724200Z"
    }
   },
   "id": "e3659661f59cea60"
  },
  {
   "cell_type": "code",
   "execution_count": 36,
   "outputs": [
    {
     "name": "stdout",
     "output_type": "stream",
     "text": [
      "<class 'pandas.core.frame.DataFrame'>\n",
      "RangeIndex: 1073 entries, 0 to 1072\n",
      "Data columns (total 12 columns):\n",
      " #   Column                 Non-Null Count  Dtype  \n",
      "---  ------                 --------------  -----  \n",
      " 0   Country                1073 non-null   object \n",
      " 1   Year                   1073 non-null   int64  \n",
      " 2   Total Population       1073 non-null   object \n",
      " 3   Urban Population       1073 non-null   object \n",
      " 4   Rural Population       1073 non-null   object \n",
      " 5   Population Density     1073 non-null   object \n",
      " 6   Life Expectancy        1073 non-null   object \n",
      " 7   Birth Rate             1073 non-null   float64\n",
      " 8   Death Rate             1073 non-null   float64\n",
      " 9   Fertility Rate         1073 non-null   object \n",
      " 10  Infant Mortality Rate  1073 non-null   object \n",
      " 11  Growth Rate            1073 non-null   object \n",
      "dtypes: float64(2), int64(1), object(9)\n",
      "memory usage: 100.7+ KB\n"
     ]
    }
   ],
   "source": [
    "df.info()"
   ],
   "metadata": {
    "collapsed": false,
    "ExecuteTime": {
     "end_time": "2023-09-28T19:33:39.779059300Z",
     "start_time": "2023-09-28T19:33:39.755470300Z"
    }
   },
   "id": "97d8f53f0d138f65"
  },
  {
   "cell_type": "code",
   "execution_count": 37,
   "outputs": [],
   "source": [
    "for column in df.columns:\n",
    "    df = df[df[column]!='-']"
   ],
   "metadata": {
    "collapsed": false,
    "ExecuteTime": {
     "end_time": "2023-09-28T19:33:41.025514100Z",
     "start_time": "2023-09-28T19:33:41.020893200Z"
    }
   },
   "id": "3cb7c0d1167502e1"
  },
  {
   "cell_type": "code",
   "execution_count": 38,
   "outputs": [
    {
     "name": "stdout",
     "output_type": "stream",
     "text": [
      "<class 'pandas.core.frame.DataFrame'>\n",
      "Index: 561 entries, 1 to 1071\n",
      "Data columns (total 12 columns):\n",
      " #   Column                 Non-Null Count  Dtype  \n",
      "---  ------                 --------------  -----  \n",
      " 0   Country                561 non-null    object \n",
      " 1   Year                   561 non-null    int64  \n",
      " 2   Total Population       561 non-null    object \n",
      " 3   Urban Population       561 non-null    object \n",
      " 4   Rural Population       561 non-null    object \n",
      " 5   Population Density     561 non-null    object \n",
      " 6   Life Expectancy        561 non-null    object \n",
      " 7   Birth Rate             561 non-null    float64\n",
      " 8   Death Rate             561 non-null    float64\n",
      " 9   Fertility Rate         561 non-null    object \n",
      " 10  Infant Mortality Rate  561 non-null    object \n",
      " 11  Growth Rate            561 non-null    object \n",
      "dtypes: float64(2), int64(1), object(9)\n",
      "memory usage: 57.0+ KB\n"
     ]
    }
   ],
   "source": [
    "df.info()"
   ],
   "metadata": {
    "collapsed": false,
    "ExecuteTime": {
     "end_time": "2023-09-28T19:33:42.466898Z",
     "start_time": "2023-09-28T19:33:42.464982700Z"
    }
   },
   "id": "22b75db99aa20ea7"
  },
  {
   "cell_type": "code",
   "execution_count": 39,
   "outputs": [
    {
     "data": {
      "text/plain": "              Year  Birth Rate  Death Rate\ncount   561.000000  561.000000  561.000000\nmean   2019.000000   19.964579    7.893127\nstd       0.817225    9.869139    2.768170\nmin    2018.000000    5.300000    0.982000\n25%    2018.000000   11.000000    6.103000\n50%    2019.000000   17.832000    7.373000\n75%    2020.000000   28.038000    9.330000\nmax    2020.000000   46.127000   18.000000",
      "text/html": "<div>\n<style scoped>\n    .dataframe tbody tr th:only-of-type {\n        vertical-align: middle;\n    }\n\n    .dataframe tbody tr th {\n        vertical-align: top;\n    }\n\n    .dataframe thead th {\n        text-align: right;\n    }\n</style>\n<table border=\"1\" class=\"dataframe\">\n  <thead>\n    <tr style=\"text-align: right;\">\n      <th></th>\n      <th>Year</th>\n      <th>Birth Rate</th>\n      <th>Death Rate</th>\n    </tr>\n  </thead>\n  <tbody>\n    <tr>\n      <th>count</th>\n      <td>561.000000</td>\n      <td>561.000000</td>\n      <td>561.000000</td>\n    </tr>\n    <tr>\n      <th>mean</th>\n      <td>2019.000000</td>\n      <td>19.964579</td>\n      <td>7.893127</td>\n    </tr>\n    <tr>\n      <th>std</th>\n      <td>0.817225</td>\n      <td>9.869139</td>\n      <td>2.768170</td>\n    </tr>\n    <tr>\n      <th>min</th>\n      <td>2018.000000</td>\n      <td>5.300000</td>\n      <td>0.982000</td>\n    </tr>\n    <tr>\n      <th>25%</th>\n      <td>2018.000000</td>\n      <td>11.000000</td>\n      <td>6.103000</td>\n    </tr>\n    <tr>\n      <th>50%</th>\n      <td>2019.000000</td>\n      <td>17.832000</td>\n      <td>7.373000</td>\n    </tr>\n    <tr>\n      <th>75%</th>\n      <td>2020.000000</td>\n      <td>28.038000</td>\n      <td>9.330000</td>\n    </tr>\n    <tr>\n      <th>max</th>\n      <td>2020.000000</td>\n      <td>46.127000</td>\n      <td>18.000000</td>\n    </tr>\n  </tbody>\n</table>\n</div>"
     },
     "execution_count": 39,
     "metadata": {},
     "output_type": "execute_result"
    }
   ],
   "source": [
    "df1 = df[df['Total Population'] != '-']\n",
    "df1.describe()"
   ],
   "metadata": {
    "collapsed": false,
    "ExecuteTime": {
     "end_time": "2023-09-28T19:33:44.508327400Z",
     "start_time": "2023-09-28T19:33:44.499660700Z"
    }
   },
   "id": "400eaa62c5c77bc8"
  },
  {
   "cell_type": "code",
   "execution_count": 41,
   "outputs": [
    {
     "data": {
      "text/plain": "                  Country  Year Total Population Urban Population  \\\n1             Afghanistan  2018       36,686,784        9,353,296   \n6                 Albania  2018        2,866,376        1,728,969   \n11                Algeria  2018       41,927,007       30,451,166   \n24                 Angola  2018       31,273,533       20,488,542   \n29    Antigua And Barbuda  2018           91,626           22,539   \n...                   ...   ...              ...              ...   \n1046              Vietnam  2020       96,648,685       36,088,619   \n1056   West Bank And Gaza  2020        4,803,269        3,685,020   \n1061                Yemen  2020       32,284,046       12,238,236   \n1066               Zambia  2020       18,927,715        8,447,250   \n1071             Zimbabwe  2020       15,669,666        5,052,214   \n\n     Rural Population Population Density Life Expectancy  Birth Rate  \\\n1          27,333,488                 56            63.0      36.927   \n6           1,137,407                105            79.0      10.517   \n11         11,475,841                 18            76.0      24.074   \n24         10,784,991                 25            62.0      40.236   \n29             69,087                208            79.0      10.816   \n...               ...                ...             ...         ...   \n1046       60,560,066                308            75.0      15.400   \n1056        1,118,249                798            74.0      28.800   \n1061       20,045,810                 61            65.0      31.252   \n1066       10,480,465                 25            62.0      34.953   \n1071       10,617,452                 41            61.0      31.009   \n\n      Death Rate Fertility Rate Infant Mortality Rate Growth Rate  \n1          6.981          5.002                  47.8         3.0  \n6          8.308           1.44                   8.3         0.0  \n11         4.482          3.023                  20.6         2.0  \n24         7.990          5.519                  52.0         3.0  \n29         5.787          1.371                   5.7         1.0  \n...          ...            ...                   ...         ...  \n1046       6.169          1.955                  16.6         1.0  \n1056       3.489           3.57                  13.2         2.0  \n1061       6.509          3.886                  45.8         2.0  \n1066       6.602          4.379                  41.1         3.0  \n1071       8.132          3.545                  36.6         2.0  \n\n[561 rows x 12 columns]",
      "text/html": "<div>\n<style scoped>\n    .dataframe tbody tr th:only-of-type {\n        vertical-align: middle;\n    }\n\n    .dataframe tbody tr th {\n        vertical-align: top;\n    }\n\n    .dataframe thead th {\n        text-align: right;\n    }\n</style>\n<table border=\"1\" class=\"dataframe\">\n  <thead>\n    <tr style=\"text-align: right;\">\n      <th></th>\n      <th>Country</th>\n      <th>Year</th>\n      <th>Total Population</th>\n      <th>Urban Population</th>\n      <th>Rural Population</th>\n      <th>Population Density</th>\n      <th>Life Expectancy</th>\n      <th>Birth Rate</th>\n      <th>Death Rate</th>\n      <th>Fertility Rate</th>\n      <th>Infant Mortality Rate</th>\n      <th>Growth Rate</th>\n    </tr>\n  </thead>\n  <tbody>\n    <tr>\n      <th>1</th>\n      <td>Afghanistan</td>\n      <td>2018</td>\n      <td>36,686,784</td>\n      <td>9,353,296</td>\n      <td>27,333,488</td>\n      <td>56</td>\n      <td>63.0</td>\n      <td>36.927</td>\n      <td>6.981</td>\n      <td>5.002</td>\n      <td>47.8</td>\n      <td>3.0</td>\n    </tr>\n    <tr>\n      <th>6</th>\n      <td>Albania</td>\n      <td>2018</td>\n      <td>2,866,376</td>\n      <td>1,728,969</td>\n      <td>1,137,407</td>\n      <td>105</td>\n      <td>79.0</td>\n      <td>10.517</td>\n      <td>8.308</td>\n      <td>1.44</td>\n      <td>8.3</td>\n      <td>0.0</td>\n    </tr>\n    <tr>\n      <th>11</th>\n      <td>Algeria</td>\n      <td>2018</td>\n      <td>41,927,007</td>\n      <td>30,451,166</td>\n      <td>11,475,841</td>\n      <td>18</td>\n      <td>76.0</td>\n      <td>24.074</td>\n      <td>4.482</td>\n      <td>3.023</td>\n      <td>20.6</td>\n      <td>2.0</td>\n    </tr>\n    <tr>\n      <th>24</th>\n      <td>Angola</td>\n      <td>2018</td>\n      <td>31,273,533</td>\n      <td>20,488,542</td>\n      <td>10,784,991</td>\n      <td>25</td>\n      <td>62.0</td>\n      <td>40.236</td>\n      <td>7.990</td>\n      <td>5.519</td>\n      <td>52.0</td>\n      <td>3.0</td>\n    </tr>\n    <tr>\n      <th>29</th>\n      <td>Antigua And Barbuda</td>\n      <td>2018</td>\n      <td>91,626</td>\n      <td>22,539</td>\n      <td>69,087</td>\n      <td>208</td>\n      <td>79.0</td>\n      <td>10.816</td>\n      <td>5.787</td>\n      <td>1.371</td>\n      <td>5.7</td>\n      <td>1.0</td>\n    </tr>\n    <tr>\n      <th>...</th>\n      <td>...</td>\n      <td>...</td>\n      <td>...</td>\n      <td>...</td>\n      <td>...</td>\n      <td>...</td>\n      <td>...</td>\n      <td>...</td>\n      <td>...</td>\n      <td>...</td>\n      <td>...</td>\n      <td>...</td>\n    </tr>\n    <tr>\n      <th>1046</th>\n      <td>Vietnam</td>\n      <td>2020</td>\n      <td>96,648,685</td>\n      <td>36,088,619</td>\n      <td>60,560,066</td>\n      <td>308</td>\n      <td>75.0</td>\n      <td>15.400</td>\n      <td>6.169</td>\n      <td>1.955</td>\n      <td>16.6</td>\n      <td>1.0</td>\n    </tr>\n    <tr>\n      <th>1056</th>\n      <td>West Bank And Gaza</td>\n      <td>2020</td>\n      <td>4,803,269</td>\n      <td>3,685,020</td>\n      <td>1,118,249</td>\n      <td>798</td>\n      <td>74.0</td>\n      <td>28.800</td>\n      <td>3.489</td>\n      <td>3.57</td>\n      <td>13.2</td>\n      <td>2.0</td>\n    </tr>\n    <tr>\n      <th>1061</th>\n      <td>Yemen</td>\n      <td>2020</td>\n      <td>32,284,046</td>\n      <td>12,238,236</td>\n      <td>20,045,810</td>\n      <td>61</td>\n      <td>65.0</td>\n      <td>31.252</td>\n      <td>6.509</td>\n      <td>3.886</td>\n      <td>45.8</td>\n      <td>2.0</td>\n    </tr>\n    <tr>\n      <th>1066</th>\n      <td>Zambia</td>\n      <td>2020</td>\n      <td>18,927,715</td>\n      <td>8,447,250</td>\n      <td>10,480,465</td>\n      <td>25</td>\n      <td>62.0</td>\n      <td>34.953</td>\n      <td>6.602</td>\n      <td>4.379</td>\n      <td>41.1</td>\n      <td>3.0</td>\n    </tr>\n    <tr>\n      <th>1071</th>\n      <td>Zimbabwe</td>\n      <td>2020</td>\n      <td>15,669,666</td>\n      <td>5,052,214</td>\n      <td>10,617,452</td>\n      <td>41</td>\n      <td>61.0</td>\n      <td>31.009</td>\n      <td>8.132</td>\n      <td>3.545</td>\n      <td>36.6</td>\n      <td>2.0</td>\n    </tr>\n  </tbody>\n</table>\n<p>561 rows × 12 columns</p>\n</div>"
     },
     "execution_count": 41,
     "metadata": {},
     "output_type": "execute_result"
    }
   ],
   "source": [
    "sorted_df = df1.sort_values(by=['Year', 'Country'])\n",
    "sorted_df"
   ],
   "metadata": {
    "collapsed": false,
    "ExecuteTime": {
     "end_time": "2023-09-28T19:34:53.086008300Z",
     "start_time": "2023-09-28T19:34:53.066645900Z"
    }
   },
   "id": "857cf06480f8cfc8"
  },
  {
   "cell_type": "code",
   "execution_count": 47,
   "outputs": [
    {
     "data": {
      "text/plain": "                  Country  Year Total Population Urban Population  \\\n1             Afghanistan  2018       36,686,784        9,353,296   \n6                 Albania  2018        2,866,376        1,728,969   \n11                Algeria  2018       41,927,007       30,451,166   \n24                 Angola  2018       31,273,533       20,488,542   \n29    Antigua And Barbuda  2018           91,626           22,539   \n...                   ...   ...              ...              ...   \n1046              Vietnam  2020       96,648,685       36,088,619   \n1056   West Bank And Gaza  2020        4,803,269        3,685,020   \n1061                Yemen  2020       32,284,046       12,238,236   \n1066               Zambia  2020       18,927,715        8,447,250   \n1071             Zimbabwe  2020       15,669,666        5,052,214   \n\n     Rural Population Population Density Life Expectancy  Birth Rate  \\\n1          27,333,488                 56            63.0      36.927   \n6           1,137,407                105            79.0      10.517   \n11         11,475,841                 18            76.0      24.074   \n24         10,784,991                 25            62.0      40.236   \n29             69,087                208            79.0      10.816   \n...               ...                ...             ...         ...   \n1046       60,560,066                308            75.0      15.400   \n1056        1,118,249                798            74.0      28.800   \n1061       20,045,810                 61            65.0      31.252   \n1066       10,480,465                 25            62.0      34.953   \n1071       10,617,452                 41            61.0      31.009   \n\n      Death Rate Fertility Rate Infant Mortality Rate Growth Rate  \n1          6.981          5.002                  47.8         3.0  \n6          8.308           1.44                   8.3         0.0  \n11         4.482          3.023                  20.6         2.0  \n24         7.990          5.519                  52.0         3.0  \n29         5.787          1.371                   5.7         1.0  \n...          ...            ...                   ...         ...  \n1046       6.169          1.955                  16.6         1.0  \n1056       3.489           3.57                  13.2         2.0  \n1061       6.509          3.886                  45.8         2.0  \n1066       6.602          4.379                  41.1         3.0  \n1071       8.132          3.545                  36.6         2.0  \n\n[561 rows x 12 columns]",
      "text/html": "<div>\n<style scoped>\n    .dataframe tbody tr th:only-of-type {\n        vertical-align: middle;\n    }\n\n    .dataframe tbody tr th {\n        vertical-align: top;\n    }\n\n    .dataframe thead th {\n        text-align: right;\n    }\n</style>\n<table border=\"1\" class=\"dataframe\">\n  <thead>\n    <tr style=\"text-align: right;\">\n      <th></th>\n      <th>Country</th>\n      <th>Year</th>\n      <th>Total Population</th>\n      <th>Urban Population</th>\n      <th>Rural Population</th>\n      <th>Population Density</th>\n      <th>Life Expectancy</th>\n      <th>Birth Rate</th>\n      <th>Death Rate</th>\n      <th>Fertility Rate</th>\n      <th>Infant Mortality Rate</th>\n      <th>Growth Rate</th>\n    </tr>\n  </thead>\n  <tbody>\n    <tr>\n      <th>1</th>\n      <td>Afghanistan</td>\n      <td>2018</td>\n      <td>36,686,784</td>\n      <td>9,353,296</td>\n      <td>27,333,488</td>\n      <td>56</td>\n      <td>63.0</td>\n      <td>36.927</td>\n      <td>6.981</td>\n      <td>5.002</td>\n      <td>47.8</td>\n      <td>3.0</td>\n    </tr>\n    <tr>\n      <th>6</th>\n      <td>Albania</td>\n      <td>2018</td>\n      <td>2,866,376</td>\n      <td>1,728,969</td>\n      <td>1,137,407</td>\n      <td>105</td>\n      <td>79.0</td>\n      <td>10.517</td>\n      <td>8.308</td>\n      <td>1.44</td>\n      <td>8.3</td>\n      <td>0.0</td>\n    </tr>\n    <tr>\n      <th>11</th>\n      <td>Algeria</td>\n      <td>2018</td>\n      <td>41,927,007</td>\n      <td>30,451,166</td>\n      <td>11,475,841</td>\n      <td>18</td>\n      <td>76.0</td>\n      <td>24.074</td>\n      <td>4.482</td>\n      <td>3.023</td>\n      <td>20.6</td>\n      <td>2.0</td>\n    </tr>\n    <tr>\n      <th>24</th>\n      <td>Angola</td>\n      <td>2018</td>\n      <td>31,273,533</td>\n      <td>20,488,542</td>\n      <td>10,784,991</td>\n      <td>25</td>\n      <td>62.0</td>\n      <td>40.236</td>\n      <td>7.990</td>\n      <td>5.519</td>\n      <td>52.0</td>\n      <td>3.0</td>\n    </tr>\n    <tr>\n      <th>29</th>\n      <td>Antigua And Barbuda</td>\n      <td>2018</td>\n      <td>91,626</td>\n      <td>22,539</td>\n      <td>69,087</td>\n      <td>208</td>\n      <td>79.0</td>\n      <td>10.816</td>\n      <td>5.787</td>\n      <td>1.371</td>\n      <td>5.7</td>\n      <td>1.0</td>\n    </tr>\n    <tr>\n      <th>...</th>\n      <td>...</td>\n      <td>...</td>\n      <td>...</td>\n      <td>...</td>\n      <td>...</td>\n      <td>...</td>\n      <td>...</td>\n      <td>...</td>\n      <td>...</td>\n      <td>...</td>\n      <td>...</td>\n      <td>...</td>\n    </tr>\n    <tr>\n      <th>1046</th>\n      <td>Vietnam</td>\n      <td>2020</td>\n      <td>96,648,685</td>\n      <td>36,088,619</td>\n      <td>60,560,066</td>\n      <td>308</td>\n      <td>75.0</td>\n      <td>15.400</td>\n      <td>6.169</td>\n      <td>1.955</td>\n      <td>16.6</td>\n      <td>1.0</td>\n    </tr>\n    <tr>\n      <th>1056</th>\n      <td>West Bank And Gaza</td>\n      <td>2020</td>\n      <td>4,803,269</td>\n      <td>3,685,020</td>\n      <td>1,118,249</td>\n      <td>798</td>\n      <td>74.0</td>\n      <td>28.800</td>\n      <td>3.489</td>\n      <td>3.57</td>\n      <td>13.2</td>\n      <td>2.0</td>\n    </tr>\n    <tr>\n      <th>1061</th>\n      <td>Yemen</td>\n      <td>2020</td>\n      <td>32,284,046</td>\n      <td>12,238,236</td>\n      <td>20,045,810</td>\n      <td>61</td>\n      <td>65.0</td>\n      <td>31.252</td>\n      <td>6.509</td>\n      <td>3.886</td>\n      <td>45.8</td>\n      <td>2.0</td>\n    </tr>\n    <tr>\n      <th>1066</th>\n      <td>Zambia</td>\n      <td>2020</td>\n      <td>18,927,715</td>\n      <td>8,447,250</td>\n      <td>10,480,465</td>\n      <td>25</td>\n      <td>62.0</td>\n      <td>34.953</td>\n      <td>6.602</td>\n      <td>4.379</td>\n      <td>41.1</td>\n      <td>3.0</td>\n    </tr>\n    <tr>\n      <th>1071</th>\n      <td>Zimbabwe</td>\n      <td>2020</td>\n      <td>15,669,666</td>\n      <td>5,052,214</td>\n      <td>10,617,452</td>\n      <td>41</td>\n      <td>61.0</td>\n      <td>31.009</td>\n      <td>8.132</td>\n      <td>3.545</td>\n      <td>36.6</td>\n      <td>2.0</td>\n    </tr>\n  </tbody>\n</table>\n<p>561 rows × 12 columns</p>\n</div>"
     },
     "execution_count": 47,
     "metadata": {},
     "output_type": "execute_result"
    }
   ],
   "source": [
    "sorted_df.to_excel(\"Global_Population_Trends_Sorted.xlsx\", index=False)\n",
    "sorted_df"
   ],
   "metadata": {
    "collapsed": false,
    "ExecuteTime": {
     "end_time": "2023-09-28T19:39:32.171295500Z",
     "start_time": "2023-09-28T19:39:31.776642100Z"
    }
   },
   "id": "5809cbe0699085d2"
  },
  {
   "cell_type": "code",
   "execution_count": null,
   "outputs": [],
   "source": [],
   "metadata": {
    "collapsed": false
   },
   "id": "b32dd0d009fa04a7"
  }
 ],
 "metadata": {
  "kernelspec": {
   "display_name": "Python 3",
   "language": "python",
   "name": "python3"
  },
  "language_info": {
   "codemirror_mode": {
    "name": "ipython",
    "version": 2
   },
   "file_extension": ".py",
   "mimetype": "text/x-python",
   "name": "python",
   "nbconvert_exporter": "python",
   "pygments_lexer": "ipython2",
   "version": "2.7.6"
  }
 },
 "nbformat": 4,
 "nbformat_minor": 5
}
