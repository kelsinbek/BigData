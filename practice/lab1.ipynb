{
 "cells": [
  {
   "cell_type": "markdown",
   "source": [
    "<h1>LAB___1</h1>"
   ],
   "metadata": {
    "collapsed": false
   },
   "id": "a182f269fb42850b"
  },
  {
   "cell_type": "markdown",
   "source": [
    "#Raw NBConvert\n",
    "45+88\n",
    "\n",
    "# Getting start with Jyputer Python"
   ],
   "metadata": {
    "collapsed": false
   },
   "id": "c6f50ed209fb3d3b"
  },
  {
   "cell_type": "markdown",
   "source": [
    "## We have done"
   ],
   "metadata": {
    "collapsed": false
   },
   "id": "5074568b9b66a95"
  },
  {
   "cell_type": "markdown",
   "source": [
    "* Install Python 3.10\n",
    "* Install Jupyter Python in PyCharm"
   ],
   "metadata": {
    "collapsed": false
   },
   "id": "3e9bf3b53b592b09"
  },
  {
   "cell_type": "markdown",
   "source": [],
   "metadata": {
    "collapsed": false
   },
   "id": "846e78cfb8752ad5"
  },
  {
   "cell_type": "code",
   "execution_count": 1,
   "outputs": [
    {
     "name": "stdout",
     "output_type": "stream",
     "text": [
      "\n",
      "Welcome to Python 3.11's help utility!\n",
      "\n",
      "If this is your first time using Python, you should definitely check out\n",
      "the tutorial on the internet at https://docs.python.org/3.11/tutorial/.\n",
      "\n",
      "Enter the name of any module, keyword, or topic to get help on writing\n",
      "Python programs and using Python modules.  To quit this help utility and\n",
      "return to the interpreter, just type \"quit\".\n",
      "\n",
      "To get a list of available modules, keywords, symbols, or topics, type\n",
      "\"modules\", \"keywords\", \"symbols\", or \"topics\".  Each module also comes\n",
      "with a one-line summary of what it does; to list the modules whose name\n",
      "or summary contain a given string such as \"spam\", type \"modules spam\".\n",
      "No Python documentation found for 'hello'.\n",
      "Use help() to get the interactive help utility.\n",
      "Use help(str) for help on the str class.\n",
      "\n",
      "\n",
      "You are now leaving help and returning to the Python interpreter.\n",
      "If you want to ask for help on a particular object directly from the\n",
      "interpreter, you can type \"help(object)\".  Executing \"help('string')\"\n",
      "has the same effect as typing a particular string at the help> prompt.\n"
     ]
    }
   ],
   "source": [
    "help()"
   ],
   "metadata": {
    "collapsed": false,
    "ExecuteTime": {
     "end_time": "2023-09-14T07:12:27.182341300Z",
     "start_time": "2023-09-14T07:12:16.557168200Z"
    }
   },
   "id": "aa0f1ede19fb42b5"
  },
  {
   "cell_type": "code",
   "execution_count": 2,
   "outputs": [],
   "source": [
    "print?"
   ],
   "metadata": {
    "collapsed": false,
    "ExecuteTime": {
     "end_time": "2023-09-14T07:12:56.380812200Z",
     "start_time": "2023-09-14T07:12:56.324232600Z"
    }
   },
   "id": "6e0e5e5b9e09cf9c"
  },
  {
   "cell_type": "code",
   "execution_count": 3,
   "outputs": [
    {
     "name": "stdout",
     "output_type": "stream",
     "text": [
      "2\n"
     ]
    }
   ],
   "source": [
    "i =2\n",
    "print(i)"
   ],
   "metadata": {
    "collapsed": false,
    "ExecuteTime": {
     "end_time": "2023-09-14T07:13:12.915141Z",
     "start_time": "2023-09-14T07:13:12.883724800Z"
    }
   },
   "id": "f9fcb5c128dcd837"
  },
  {
   "cell_type": "code",
   "execution_count": 4,
   "outputs": [
    {
     "name": "stdout",
     "output_type": "stream",
     "text": [
      "<class 'int'>\n"
     ]
    }
   ],
   "source": [
    "a = 19\n",
    "t = type(a)\n",
    "print(t)"
   ],
   "metadata": {
    "collapsed": false,
    "ExecuteTime": {
     "end_time": "2023-09-14T07:13:51.832373500Z",
     "start_time": "2023-09-14T07:13:51.818338500Z"
    }
   },
   "id": "826dcb6d0e2c09eb"
  },
  {
   "cell_type": "markdown",
   "source": [
    "## Create some variables in Python"
   ],
   "metadata": {
    "collapsed": false
   },
   "id": "a047ab6a90cfc630"
  },
  {
   "cell_type": "code",
   "execution_count": 5,
   "outputs": [
    {
     "name": "stdout",
     "output_type": "stream",
     "text": [
      "This is a string\n"
     ]
    }
   ],
   "source": [
    "i = 19\n",
    "type(i)\n",
    "\n",
    "f = 4.2\n",
    "type(f)\n",
    "\n",
    "b = True\n",
    "s = \"This is a string\"\n",
    "\n",
    "print(s)"
   ],
   "metadata": {
    "collapsed": false,
    "ExecuteTime": {
     "end_time": "2023-09-14T07:15:18.049582400Z",
     "start_time": "2023-09-14T07:15:18.026899300Z"
    }
   },
   "id": "947864aea0f40ca0"
  },
  {
   "cell_type": "markdown",
   "source": [
    "## Advanced python types"
   ],
   "metadata": {
    "collapsed": false
   },
   "id": "2c976fcbc0053783"
  },
  {
   "cell_type": "code",
   "execution_count": 6,
   "outputs": [
    {
     "name": "stdout",
     "output_type": "stream",
     "text": [
      "[3, 4, 5, 6, 6]\n"
     ]
    }
   ],
   "source": [
    "l = [3,4,5,6,6]\n",
    "print(l)\n"
   ],
   "metadata": {
    "collapsed": false,
    "ExecuteTime": {
     "end_time": "2023-09-14T07:16:05.267699400Z",
     "start_time": "2023-09-14T07:16:05.262634700Z"
    }
   },
   "id": "3500a159e4511277"
  },
  {
   "cell_type": "code",
   "execution_count": 7,
   "outputs": [
    {
     "name": "stdout",
     "output_type": "stream",
     "text": [
      "{'foo': 1, 'bar': 2, 's': 'my first project'}\n"
     ]
    }
   ],
   "source": [
    "d = {'foo':1, 'bar' : 2, 's':'my first project'}\n",
    "print(d)\n"
   ],
   "metadata": {
    "collapsed": false,
    "ExecuteTime": {
     "end_time": "2023-09-14T07:17:50.717505200Z",
     "start_time": "2023-09-14T07:17:50.654525900Z"
    }
   },
   "id": "f77de3c9d684575f"
  },
  {
   "cell_type": "code",
   "execution_count": 8,
   "outputs": [
    {
     "name": "stdout",
     "output_type": "stream",
     "text": [
      "1\n"
     ]
    }
   ],
   "source": [
    "print(d['foo'])\n"
   ],
   "metadata": {
    "collapsed": false,
    "ExecuteTime": {
     "end_time": "2023-09-14T07:18:04.375180400Z",
     "start_time": "2023-09-14T07:18:04.328061400Z"
    }
   },
   "id": "43225de50e2b367f"
  },
  {
   "cell_type": "code",
   "execution_count": 9,
   "outputs": [
    {
     "data": {
      "text/plain": "NoneType"
     },
     "execution_count": 9,
     "metadata": {},
     "output_type": "execute_result"
    }
   ],
   "source": [
    "n = None\n",
    "type(n)\n"
   ],
   "metadata": {
    "collapsed": false,
    "ExecuteTime": {
     "end_time": "2023-09-14T07:18:28.712856200Z",
     "start_time": "2023-09-14T07:18:28.649867900Z"
    }
   },
   "id": "8ce3786fb4039ef7"
  },
  {
   "cell_type": "markdown",
   "source": [
    "## Для выполнения  элементарных матем функций необходимо подключать библиотеку math"
   ],
   "metadata": {
    "collapsed": false
   },
   "id": "80978f728757a101"
  },
  {
   "cell_type": "code",
   "execution_count": 10,
   "outputs": [
    {
     "name": "stdout",
     "output_type": "stream",
     "text": [
      "Возведение числа 10 на квадрат 100.0\n"
     ]
    }
   ],
   "source": [
    "import math\n",
    "p = math.pow(10, 2)\n",
    "print('Возведение числа 10 на квадрат', p)\n"
   ],
   "metadata": {
    "collapsed": false,
    "ExecuteTime": {
     "end_time": "2023-09-14T07:21:22.999785700Z",
     "start_time": "2023-09-14T07:21:22.995715Z"
    }
   },
   "id": "de5243486daaf46d"
  },
  {
   "cell_type": "code",
   "execution_count": 12,
   "outputs": [
    {
     "name": "stdout",
     "output_type": "stream",
     "text": [
      "25 из квадратного корня =  5.0\n"
     ]
    }
   ],
   "source": [
    "s = math.sqrt(25)\n",
    "print(\"25 из квадратного корня = \",s)"
   ],
   "metadata": {
    "collapsed": false,
    "ExecuteTime": {
     "end_time": "2023-09-14T07:24:48.223247100Z",
     "start_time": "2023-09-14T07:24:48.207299300Z"
    }
   },
   "id": "a53e8ad4c0e55baa"
  },
  {
   "cell_type": "code",
   "execution_count": 13,
   "outputs": [
    {
     "name": "stdout",
     "output_type": "stream",
     "text": [
      "Округление 2.45666  до ближайщего большего целого 3\n"
     ]
    }
   ],
   "source": [
    "ceil = math.ceil(2.45666)\n",
    "print('Округление 2.45666  до ближайщего большего целого', ceil)\n",
    "\n"
   ],
   "metadata": {
    "collapsed": false,
    "ExecuteTime": {
     "end_time": "2023-09-14T07:29:58.817642300Z",
     "start_time": "2023-09-14T07:29:58.785825300Z"
    }
   },
   "id": "65adaaf6018f451e"
  },
  {
   "cell_type": "code",
   "execution_count": 14,
   "outputs": [
    {
     "name": "stdout",
     "output_type": "stream",
     "text": [
      "Факториал 5 =  120\n"
     ]
    }
   ],
   "source": [
    "f = math.factorial(5)\n",
    "print('Факториал 5 = ', f)\n"
   ],
   "metadata": {
    "collapsed": false,
    "ExecuteTime": {
     "end_time": "2023-09-14T07:30:45.671928100Z",
     "start_time": "2023-09-14T07:30:45.664878Z"
    }
   },
   "id": "27570b51debf58cd"
  },
  {
   "cell_type": "markdown",
   "source": [
    "# Advanced printing"
   ],
   "metadata": {
    "collapsed": false
   },
   "id": "70e2b3819f22db4f"
  },
  {
   "cell_type": "code",
   "execution_count": 16,
   "outputs": [
    {
     "name": "stdout",
     "output_type": "stream",
     "text": [
      "Our first value is 12. Our second value is 2003\n"
     ]
    }
   ],
   "source": [
    "i = 12\n",
    "n = 2003\n",
    "print('Our first value is %s. Our second value is %s'%(i, n))"
   ],
   "metadata": {
    "collapsed": false,
    "ExecuteTime": {
     "end_time": "2023-09-14T07:33:43.463281Z",
     "start_time": "2023-09-14T07:33:43.454764200Z"
    }
   },
   "id": "97232f964054eb2a"
  },
  {
   "cell_type": "markdown",
   "source": [
    "## Conditional statements in Python\n"
   ],
   "metadata": {
    "collapsed": false
   },
   "id": "2cf9f8cd709c9e2f"
  },
  {
   "cell_type": "code",
   "execution_count": 17,
   "outputs": [
    {
     "name": "stdout",
     "output_type": "stream",
     "text": [
      "i or f are both greater than 4.\n"
     ]
    }
   ],
   "source": [
    "i = 4 \n",
    "f = 4.1\n",
    "if i == 1 and f > 4:\n",
    "    print(\"The value of i is 1 and f is greater than 4.\")\n",
    "elif i > 4 or f > 4:\n",
    "    print('i or f are both greater than 4.')\n",
    "else:\n",
    "    print(\"both i and f are less than or equal to 4\")\n",
    "    "
   ],
   "metadata": {
    "collapsed": false,
    "ExecuteTime": {
     "end_time": "2023-09-14T07:36:44.566091600Z",
     "start_time": "2023-09-14T07:36:44.537399Z"
    }
   },
   "id": "725f8314542738ea"
  },
  {
   "cell_type": "markdown",
   "source": [
    "## Conditional loops "
   ],
   "metadata": {
    "collapsed": false
   },
   "id": "d069fc5a2859a429"
  },
  {
   "cell_type": "code",
   "execution_count": 18,
   "outputs": [
    {
     "name": "stdout",
     "output_type": "stream",
     "text": [
      "[3, 1, 2]\n"
     ]
    }
   ],
   "source": [
    "l = [3,1,2]  #list\n",
    "print(l)\n",
    "\n"
   ],
   "metadata": {
    "collapsed": false,
    "ExecuteTime": {
     "end_time": "2023-09-14T07:37:30.358746100Z",
     "start_time": "2023-09-14T07:37:30.348703600Z"
    }
   },
   "id": "b618cf8184934cc7"
  },
  {
   "cell_type": "code",
   "execution_count": 19,
   "outputs": [
    {
     "name": "stdout",
     "output_type": "stream",
     "text": [
      "3\n",
      "1\n",
      "2\n"
     ]
    }
   ],
   "source": [
    "for e in l:\n",
    "    print(e)\n",
    "    "
   ],
   "metadata": {
    "collapsed": false,
    "ExecuteTime": {
     "end_time": "2023-09-14T07:37:42.175593100Z",
     "start_time": "2023-09-14T07:37:42.144149300Z"
    }
   },
   "id": "46c5c9d9d7d1155f"
  },
  {
   "cell_type": "code",
   "execution_count": 21,
   "outputs": [
    {
     "name": "stdout",
     "output_type": "stream",
     "text": [
      "Это число от 0 до 99 :  0\n",
      "Это число от 0 до 99 :  1\n",
      "Это число от 0 до 99 :  2\n",
      "Это число от 0 до 99 :  3\n",
      "Это число от 0 до 99 :  4\n",
      "Это число от 0 до 99 :  5\n",
      "Это число от 0 до 99 :  6\n",
      "Это число от 0 до 99 :  7\n",
      "Это число от 0 до 99 :  8\n",
      "Это число от 0 до 99 :  9\n",
      "Это число от 0 до 99 :  10\n",
      "Это число от 0 до 99 :  11\n",
      "Это число от 0 до 99 :  12\n",
      "Это число от 0 до 99 :  13\n",
      "Это число от 0 до 99 :  14\n",
      "Это число от 0 до 99 :  15\n",
      "Это число от 0 до 99 :  16\n",
      "Это число от 0 до 99 :  17\n",
      "Это число от 0 до 99 :  18\n",
      "Это число от 0 до 99 :  19\n",
      "Это число от 0 до 99 :  20\n",
      "Это число от 0 до 99 :  21\n",
      "Это число от 0 до 99 :  22\n",
      "Это число от 0 до 99 :  23\n",
      "Это число от 0 до 99 :  24\n",
      "Это число от 0 до 99 :  25\n",
      "Это число от 0 до 99 :  26\n",
      "Это число от 0 до 99 :  27\n",
      "Это число от 0 до 99 :  28\n",
      "Это число от 0 до 99 :  29\n",
      "Это число от 0 до 99 :  30\n",
      "Это число от 0 до 99 :  31\n",
      "Это число от 0 до 99 :  32\n",
      "Это число от 0 до 99 :  33\n",
      "Это число от 0 до 99 :  34\n",
      "Это число от 0 до 99 :  35\n",
      "Это число от 0 до 99 :  36\n",
      "Это число от 0 до 99 :  37\n",
      "Это число от 0 до 99 :  38\n",
      "Это число от 0 до 99 :  39\n",
      "Это число от 0 до 99 :  40\n",
      "Это число от 0 до 99 :  41\n",
      "Это число от 0 до 99 :  42\n",
      "Это число от 0 до 99 :  43\n",
      "Это число от 0 до 99 :  44\n",
      "Это число от 0 до 99 :  45\n",
      "Это число от 0 до 99 :  46\n",
      "Это число от 0 до 99 :  47\n",
      "Это число от 0 до 99 :  48\n",
      "Это число от 0 до 99 :  49\n",
      "Это число от 0 до 99 :  50\n",
      "Это число от 0 до 99 :  51\n",
      "Это число от 0 до 99 :  52\n",
      "Это число от 0 до 99 :  53\n",
      "Это число от 0 до 99 :  54\n",
      "Это число от 0 до 99 :  55\n",
      "Это число от 0 до 99 :  56\n",
      "Это число от 0 до 99 :  57\n",
      "Это число от 0 до 99 :  58\n",
      "Это число от 0 до 99 :  59\n",
      "Это число от 0 до 99 :  60\n",
      "Это число от 0 до 99 :  61\n",
      "Это число от 0 до 99 :  62\n",
      "Это число от 0 до 99 :  63\n",
      "Это число от 0 до 99 :  64\n",
      "Это число от 0 до 99 :  65\n",
      "Это число от 0 до 99 :  66\n",
      "Это число от 0 до 99 :  67\n",
      "Это число от 0 до 99 :  68\n",
      "Это число от 0 до 99 :  69\n",
      "Это число от 0 до 99 :  70\n",
      "Это число от 0 до 99 :  71\n",
      "Это число от 0 до 99 :  72\n",
      "Это число от 0 до 99 :  73\n",
      "Это число от 0 до 99 :  74\n",
      "Это число от 0 до 99 :  75\n",
      "Это число от 0 до 99 :  76\n",
      "Это число от 0 до 99 :  77\n",
      "Это число от 0 до 99 :  78\n",
      "Это число от 0 до 99 :  79\n",
      "Это число от 0 до 99 :  80\n",
      "Это число от 0 до 99 :  81\n",
      "Это число от 0 до 99 :  82\n",
      "Это число от 0 до 99 :  83\n",
      "Это число от 0 до 99 :  84\n",
      "Это число от 0 до 99 :  85\n",
      "Это число от 0 до 99 :  86\n",
      "Это число от 0 до 99 :  87\n",
      "Это число от 0 до 99 :  88\n",
      "Это число от 0 до 99 :  89\n",
      "Это число от 0 до 99 :  90\n",
      "Это число от 0 до 99 :  91\n",
      "Это число от 0 до 99 :  92\n",
      "Это число от 0 до 99 :  93\n",
      "Это число от 0 до 99 :  94\n",
      "Это число от 0 до 99 :  95\n",
      "Это число от 0 до 99 :  96\n",
      "Это число от 0 до 99 :  97\n",
      "Это число от 0 до 99 :  98\n",
      "Это число от 0 до 99 :  99\n"
     ]
    }
   ],
   "source": [
    "for i in range(100):\n",
    "    print('Это число от 0 до 99 : ', i)"
   ],
   "metadata": {
    "collapsed": false,
    "ExecuteTime": {
     "end_time": "2023-09-14T07:38:55.979300300Z",
     "start_time": "2023-09-14T07:38:55.963009500Z"
    }
   },
   "id": "eab32e548fce6313"
  },
  {
   "cell_type": "code",
   "execution_count": 23,
   "outputs": [
    {
     "name": "stdout",
     "output_type": "stream",
     "text": [
      "Number: 0\n",
      "Number: 1\n",
      "Number: 2\n",
      "Number: 3\n",
      "Number: 4\n",
      "Number: 5\n",
      "Number: 6\n",
      "Number: 7\n",
      "Number: 8\n",
      "Number: 9\n"
     ]
    }
   ],
   "source": [
    "import  time\n",
    "for n in range(10):\n",
    "    time.sleep(1)\n",
    "    print('Number:', n)"
   ],
   "metadata": {
    "collapsed": false,
    "ExecuteTime": {
     "end_time": "2023-09-14T07:40:31.940640600Z",
     "start_time": "2023-09-14T07:40:21.915752300Z"
    }
   },
   "id": "8a26b478b792c3fd"
  },
  {
   "cell_type": "code",
   "execution_count": 24,
   "outputs": [
    {
     "name": "stdout",
     "output_type": "stream",
     "text": [
      "6\n",
      "7\n",
      "8\n",
      "9\n"
     ]
    }
   ],
   "source": [
    "counter = 6\n",
    "while counter < 10:\n",
    "    print(counter)\n",
    "    counter+=1"
   ],
   "metadata": {
    "collapsed": false,
    "ExecuteTime": {
     "end_time": "2023-09-14T07:41:08.223966200Z",
     "start_time": "2023-09-14T07:41:08.207745200Z"
    }
   },
   "id": "b0655d4d79a89f5b"
  },
  {
   "cell_type": "markdown",
   "source": [
    "\n",
    "## Creating functions in Python "
   ],
   "metadata": {
    "collapsed": false
   },
   "id": "dcfc342f84991fd4"
  },
  {
   "cell_type": "markdown",
   "source": [
    "#### Again, we dont use {}, but just indent the lines that are part of the function\n",
    "\n",
    "\n"
   ],
   "metadata": {
    "collapsed": false
   },
   "id": "2e4817c580688349"
  },
  {
   "cell_type": "code",
   "execution_count": 25,
   "outputs": [
    {
     "name": "stdout",
     "output_type": "stream",
     "text": [
      "50\n"
     ]
    }
   ],
   "source": [
    "def add2(x):\n",
    "    y = x+ 5\n",
    "    print(y)\n",
    "    \n",
    "i = 45\n",
    "\n",
    "add2(i)\n"
   ],
   "metadata": {
    "collapsed": false,
    "ExecuteTime": {
     "end_time": "2023-09-14T07:45:55.159046400Z",
     "start_time": "2023-09-14T07:45:55.127316100Z"
    }
   },
   "id": "5702c104cd6fdf64"
  },
  {
   "cell_type": "markdown",
   "source": [
    "###### We can also define simple functions with lambdas:"
   ],
   "metadata": {
    "collapsed": false
   },
   "id": "33c079998448af42"
  },
  {
   "cell_type": "code",
   "execution_count": 26,
   "outputs": [
    {
     "data": {
      "text/plain": "100"
     },
     "execution_count": 26,
     "metadata": {},
     "output_type": "execute_result"
    }
   ],
   "source": [
    "square = lambda x : x*x\n",
    "\n",
    "square(10)\n",
    "\n"
   ],
   "metadata": {
    "collapsed": false,
    "ExecuteTime": {
     "end_time": "2023-09-14T07:47:21.974889500Z",
     "start_time": "2023-09-14T07:47:21.911999Z"
    }
   },
   "id": "6d6babaf7b3bb1cf"
  },
  {
   "cell_type": "code",
   "execution_count": 27,
   "outputs": [
    {
     "name": "stdout",
     "output_type": "stream",
     "text": [
      "30\n"
     ]
    }
   ],
   "source": [
    "x = lambda a, b : a*b\n",
    "print(x(5,6))\n"
   ],
   "metadata": {
    "collapsed": false,
    "ExecuteTime": {
     "end_time": "2023-09-14T07:48:03.344607800Z",
     "start_time": "2023-09-14T07:48:03.286969600Z"
    }
   },
   "id": "703229afc649f79f"
  },
  {
   "cell_type": "code",
   "execution_count": 28,
   "outputs": [
    {
     "name": "stdout",
     "output_type": "stream",
     "text": [
      "15\n"
     ]
    }
   ],
   "source": [
    "# Example \n",
    "# Summarize argument a, b, and a and return the result :\n",
    "\n",
    "x = lambda a, b ,c : a + b + c\n",
    "print(x(4,5,6))"
   ],
   "metadata": {
    "collapsed": false,
    "ExecuteTime": {
     "end_time": "2023-09-14T07:49:55.556114600Z",
     "start_time": "2023-09-14T07:49:55.509024700Z"
    }
   },
   "id": "4ccbd1d9aaf8eb35"
  },
  {
   "cell_type": "markdown",
   "source": [
    "<h1>Heading 1 <h1>\n",
    "<h2>Heading 2 <h2>\n",
    "<h3>Heading 3 <h3>\n",
    "<h4>Heading 4 <h4>\n",
    "<h5>Heading 5 <h5>\n",
    "<h6>Heading 6 <h6>"
   ],
   "metadata": {
    "collapsed": false
   },
   "id": "c6fa5dfc0909df81"
  },
  {
   "cell_type": "markdown",
   "source": [],
   "metadata": {
    "collapsed": false
   },
   "id": "ca16060d53e8f359"
  },
  {
   "cell_type": "markdown",
   "source": [],
   "metadata": {
    "collapsed": false
   },
   "id": "18251d27522adce7"
  },
  {
   "cell_type": "markdown",
   "source": [
    "<img src = 'jupyter.jpeg' width = '800'>"
   ],
   "metadata": {
    "collapsed": false
   },
   "id": "b4e01ee87579f72c"
  },
  {
   "cell_type": "markdown",
   "source": [],
   "metadata": {
    "collapsed": false
   },
   "id": "ff738ac6147296c"
  },
  {
   "cell_type": "markdown",
   "source": [
    "\\begin{equation*}\n",
    "\\left(sum_{k=1}^n a_k b_k\\right)^2\n",
    "\\end{equation*}"
   ],
   "metadata": {
    "collapsed": false
   },
   "id": "77e8912fa0606e66"
  },
  {
   "cell_type": "markdown",
   "source": [
    "\\begin{equation*}\n",
    "\\(E=mc^2\\)\n",
    "\\end{equation*}\n"
   ],
   "metadata": {
    "collapsed": false
   },
   "id": "54d89d62f8621af9"
  },
  {
   "cell_type": "code",
   "execution_count": 30,
   "outputs": [
    {
     "name": "stdout",
     "output_type": "stream",
     "text": [
      "\n",
      "ЋиЁЎЄ : ­Ґ®Ї®§­ ­­ п Ё«Ё ­ҐЇ®«­ п Є®¬ ­¤­ п бва®Є .\n",
      "\n",
      "€‘ЏЋ‹њ‡Ћ‚ЂЌ€…:\n",
      "    ipconfig [/allcompartments] [/? | /all |\n",
      "                                 /renew [ ¤ ЇвҐа] | /release [ ¤ ЇвҐа] |\n",
      "                                 /renew6 [ ¤ ЇвҐа] | /release6 [ ¤ ЇвҐа] |\n",
      "                                 /flushdns | /displaydns | /registerdns |\n",
      "                                 /showclassid  ¤ ЇвҐа |\n",
      "                                 /setclassid  ¤ ЇвҐа [Ё¤Ґ­вЁдЁЄ в®а_Є« бб ] ]\n",
      "                                 /showclassid6  ¤ ЇвҐа |\n",
      "                                 /setclassid6  ¤ ЇвҐа [Ё¤Ґ­вЁдЁЄ в®а_Є« бб ] ]\n",
      "\n",
      "‡¤Ґбм\n",
      "     ¤ ЇвҐа             €¬п Ї®¤Є«озҐ­Ёп (¬®¦­® ЁбЇ®«м§®ў вм §­ ЄЁ Ї®¤бв ­®ўЄЁ\n",
      "                        * and ?, б¬. ЇаЁ¬Ґал)\n",
      "\n",
      "    Џ а ¬Ґвал:\n",
      "       /?               ‚лў®¤ ¤ ­­®Ј® бЇа ў®з­®Ј® б®®ЎйҐ­Ёп\n",
      "       /all             ‚лў®¤ Ї®¤а®Ў­ле бўҐ¤Ґ­Ё© ® Є®­дЁЈга жЁЁ.\n",
      "       /release         Ћбў®Ў®¦¤Ґ­ЁҐ IPv4- ¤аҐб  ¤«п гЄ § ­­®Ј®  ¤ ЇвҐа .\n",
      "       /release6        Ћбў®Ў®¦¤Ґ­ЁҐ IPv6- ¤аҐб  ¤«п гЄ § ­­®Ј®  ¤ ЇвҐа .\n",
      "       /renew           ЋЎ­®ў«Ґ­ЁҐ IPv4- ¤аҐб  ¤«п гЄ § ­­®Ј®  ¤ ЇвҐа .\n",
      "       /renew6          ЋЎ­®ў«Ґ­ЁҐ IPv6- ¤аҐб  ¤«п гЄ § ­­®Ј®  ¤ ЇвҐа .\n",
      "       /flushdns        ЋзЁбвЄ  Єни  б®Ї®бв ўЁвҐ«п DNS.\n",
      "       /registerdns     ЋЎ­®ў«Ґ­ЁҐ ўбҐе DHCP- аҐ­¤ Ё ЇҐаҐаҐЈЁбва жЁп DNS-Ё¬Ґ­\n",
      "       /displaydns      Ћв®Ўа ¦Ґ­ЁҐ б®¤Ґа¦Ё¬®Ј® Єни  б®Ї®бв ўЁвҐ«п DNS.\n",
      "       /showclassid     Ћв®Ўа ¦Ґ­ЁҐ ўбҐе ¤®ЇгбвЁ¬ле ¤«п нв®Ј®  ¤ ЇвҐа \n",
      "                        Ё¤Ґ­вЁдЁЄ в®а®ў Є« бб®ў DHCP.\n",
      "       /setclassid      €§¬Ґ­Ґ­ЁҐ Ё¤Ґ­вЁдЁЄ в®а  Є« бб  DHCP.\n",
      "       /showclassid6    Ћв®Ўа ¦Ґ­ЁҐ ўбҐе ¤®ЇгбвЁ¬ле ¤«п нв®Ј®  ¤ ЇвҐа \n",
      "                        Ё¤Ґ­вЁдЁЄ в®а®ў Є« бб®ў DHCP IPv6.\n",
      "       /setclassid6     €§¬Ґ­Ґ­ЁҐ Ё¤Ґ­вЁдЁЄ в®а  Є« бб  DHCP IPv6.\n",
      "\n",
      "Џ® г¬®«з ­Ёо ®в®Ўа ¦ Ґвбп в®«мЄ® IP- ¤аҐб, ¬ бЄ  Ї®¤бҐвЁ Ё бв ­¤ ав­л© и«о§\n",
      "¤«п Є ¦¤®Ј®  ¤ ЇвҐа , ¤«п Є®в®а®Ј® ўлЇ®«­Ґ­  ЇаЁўп§Є  Є TCP/IP.\n",
      "\n",
      "…б«Ё ¤«п Ї а ¬Ґва®ў Release Ё Renew ­Ґ гЄ § ­® Ё¬п  ¤ ЇвҐа , в®  аҐ­¤ \n",
      "IP- ¤аҐб  ¤«п ўбҐе  ¤ ЇвҐа®ў, ¤«п Є®в®але бгйҐбвўгов ЇаЁўп§ЄЁ Є TCP/IP,\n",
      "Ўг¤Ґв ®бў®Ў®¦¤Ґ­  Ё«Ё ®Ў­®ў«Ґ­ .\n",
      "\n",
      "…б«Ё ¤«п Ї а ¬Ґва  SetClassid Ё«Ё SetClassid6 ­Ґ гЄ § ­ Ё¤Ґ­вЁдЁЄ в®а Є« бб ,\n",
      "в® бгйҐбвўгойЁ© Ё¤Ґ­вЁдЁЄ в®а Є« бб  Ўг¤Ґв г¤ «Ґ­.\n",
      "\n",
      "ЏаЁ¬Ґал.\n",
      "   > ipconfig                        ... ‚лў®¤  бўҐ¤Ґ­Ё©\n",
      "   > ipconfig /all                   ... ‚лў®¤ Ї®¤а®Ў­ле бўҐ¤Ґ­Ё©\n",
      "   > ipconfig /renew                 ... ЋЎ­®ў«Ґ­ЁҐ  ¤аҐб®ў ўбҐе  ¤ ЇвҐа®ў\n",
      "   > ipconfig /renew EL*             ... ЋЎ­®ў«Ґ­ЁҐ  ¤аҐб®ў ¤«п ўбҐе\n",
      "                                         Ї®¤Є«озҐ­Ё©, Ё¬п Є®в®але ­ зЁ­ Ґвбп\n",
      "                                         б \"EL\"\n",
      "   > ipconfig /release *Con*         ... Ћбў®Ў®¦¤Ґ­ЁҐ  ¤аҐб®ў ¤«п ўбҐе\n",
      "                                         Ї®¤Є«озҐ­Ё© б б®®вўҐвбвўгойЁ¬ Ё¬Ґ­Ґ¬,\n",
      "                                         ­ ЇаЁ¬Ґа \"Џа®ў®¤­®Ґ Ї®¤Є«озҐ­ЁҐ\n",
      "                                         Ethernet 1\" Ё«Ё \"Џа®ў®¤­®Ґ Ї®¤Є«озҐ­ЁҐ\n",
      "                                         Ethernet 2\"\n",
      "   > ipconfig /allcompartments       ... Ћв®Ўа ¦Ґ­ЁҐ бўҐ¤Ґ­Ё© ®Ў® ўбҐе\n",
      "                                         бҐЄжЁпе\n",
      "   > ipconfig /allcompartments /all  ... Ћв®Ўа ¦Ґ­ЁҐ Ї®¤а®Ў­ле бўҐ¤Ґ­Ё© ®Ў®\n",
      "                                         ўбҐе бҐЄжЁпе\n"
     ]
    }
   ],
   "source": [
    "! ipconfig"
   ],
   "metadata": {
    "collapsed": false,
    "ExecuteTime": {
     "end_time": "2023-09-14T08:21:51.719997Z",
     "start_time": "2023-09-14T08:21:51.673475100Z"
    }
   },
   "id": "8fa6c01056948345"
  },
  {
   "cell_type": "code",
   "execution_count": 31,
   "outputs": [
    {
     "name": "stdout",
     "output_type": "stream",
     "text": [
      "\n",
      "ЋЎ¬Ґ­ Ї ЄҐв ¬Ё б google.com [216.58.211.238] б 32 Ў ©в ¬Ё ¤ ­­ле:\n",
      "ЋвўҐв ®в 216.58.211.238: зЁб«® Ў ©в=32 ўаҐ¬п=107¬б TTL=56\n",
      "ЋвўҐв ®в 216.58.211.238: зЁб«® Ў ©в=32 ўаҐ¬п=159¬б TTL=56\n",
      "ЋвўҐв ®в 216.58.211.238: зЁб«® Ў ©в=32 ўаҐ¬п=934¬б TTL=56\n",
      "ЋвўҐв ®в 216.58.211.238: зЁб«® Ў ©в=32 ўаҐ¬п=116¬б TTL=56\n",
      "\n",
      "‘в вЁбвЁЄ  Ping ¤«п 216.58.211.238:\n",
      "    Џ ЄҐв®ў: ®вЇа ў«Ґ­® = 4, Ї®«гзҐ­® = 4, Ї®вҐап­® = 0\n",
      "    (0% Ї®вҐам)\n",
      "ЏаЁЎ«Ё§ЁвҐ«м­®Ґ ўаҐ¬п ЇаЁҐ¬ -ЇҐаҐ¤ зЁ ў ¬б:\n",
      "    ЊЁ­Ё¬ «м­®Ґ = 107¬бҐЄ, Њ ЄбЁ¬ «м­®Ґ = 934 ¬бҐЄ, ‘аҐ¤­ҐҐ = 329 ¬бҐЄ\n"
     ]
    }
   ],
   "source": [
    "! ping google.com"
   ],
   "metadata": {
    "collapsed": false,
    "ExecuteTime": {
     "end_time": "2023-09-14T08:23:56.933855700Z",
     "start_time": "2023-09-14T08:23:52.395207900Z"
    }
   },
   "id": "92a354fdeca10bcf"
  },
  {
   "cell_type": "code",
   "execution_count": null,
   "outputs": [],
   "source": [
    "######1.\tПочему для работы с большими данными и для машинного обучения выбирают язык Python? Перечислите не менее трех причин.\n",
    "######2.\tВ чем особенности среды Jupyter Notebook, почему ее выбирают специалисты по Data Science? \n",
    "######3.\tПеречислите основные библиотеки Python для машинного обучения.\n",
    "######4.\tКакие типы данных Python вы знаете?\n",
    "######5.\tНазовите основные языковые конструкции Python.\n",
    "######6.\tКакое назначение у оператора if … else?\n",
    "######7.\tКогда заканчивается выполнение оператора while?\n",
    "######8.\tКакие способы задания функций есть в Python?\n",
    "######9.\tЧто такое Лямбда-функция?\n",
    "######10.\tКакая библиотека Python отвечает за выполнение основным математических функций?\n",
    "######11.\tНазовите дополнительные возможности использования среды Jupyter Notebook.\n"
   ],
   "metadata": {
    "collapsed": false
   },
   "id": "f3e24d3562a6d5e"
  }
 ],
 "metadata": {
  "kernelspec": {
   "display_name": "Python 3",
   "language": "python",
   "name": "python3"
  },
  "language_info": {
   "codemirror_mode": {
    "name": "ipython",
    "version": 2
   },
   "file_extension": ".py",
   "mimetype": "text/x-python",
   "name": "python",
   "nbconvert_exporter": "python",
   "pygments_lexer": "ipython2",
   "version": "2.7.6"
  }
 },
 "nbformat": 4,
 "nbformat_minor": 5
}
